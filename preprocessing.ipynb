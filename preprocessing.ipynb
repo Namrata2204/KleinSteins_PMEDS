{
 "cells": [
  {
   "cell_type": "code",
   "execution_count": 10,
   "metadata": {
    "collapsed": true
   },
   "outputs": [],
   "source": [
    "#The following file is for data preprocessing\n",
    "import pandas as pd\n",
    "import numpy as np\n",
    "import matplotlib.pyplot as plt"
   ]
  },
  {
   "cell_type": "code",
   "execution_count": 11,
   "metadata": {},
   "outputs": [
    {
     "name": "stdout",
     "output_type": "stream",
     "text": [
      "            Disease   Symptom_1              Symptom_2              Symptom_3  \\\n",
      "0  Fungal infection     itching              skin_rash   nodal_skin_eruptions   \n",
      "1  Fungal infection   skin_rash   nodal_skin_eruptions    dischromic _patches   \n",
      "2  Fungal infection     itching   nodal_skin_eruptions    dischromic _patches   \n",
      "3  Fungal infection     itching              skin_rash    dischromic _patches   \n",
      "4  Fungal infection     itching              skin_rash   nodal_skin_eruptions   \n",
      "\n",
      "              Symptom_4 Symptom_5 Symptom_6 Symptom_7 Symptom_8 Symptom_9  \\\n",
      "0   dischromic _patches       NaN       NaN       NaN       NaN       NaN   \n",
      "1                   NaN       NaN       NaN       NaN       NaN       NaN   \n",
      "2                   NaN       NaN       NaN       NaN       NaN       NaN   \n",
      "3                   NaN       NaN       NaN       NaN       NaN       NaN   \n",
      "4                   NaN       NaN       NaN       NaN       NaN       NaN   \n",
      "\n",
      "  Symptom_10 Symptom_11 Symptom_12 Symptom_13 Symptom_14 Symptom_15  \\\n",
      "0        NaN        NaN        NaN        NaN        NaN        NaN   \n",
      "1        NaN        NaN        NaN        NaN        NaN        NaN   \n",
      "2        NaN        NaN        NaN        NaN        NaN        NaN   \n",
      "3        NaN        NaN        NaN        NaN        NaN        NaN   \n",
      "4        NaN        NaN        NaN        NaN        NaN        NaN   \n",
      "\n",
      "  Symptom_16 Symptom_17  \n",
      "0        NaN        NaN  \n",
      "1        NaN        NaN  \n",
      "2        NaN        NaN  \n",
      "3        NaN        NaN  \n",
      "4        NaN        NaN  \n"
     ]
    }
   ],
   "source": [
    "#importing and visualizing datasets\n",
    "\n",
    "df = pd.read_csv('Initial Data\\dataset.csv')\n",
    "print(df.head())"
   ]
  },
  {
   "cell_type": "code",
   "execution_count": 12,
   "metadata": {},
   "outputs": [
    {
     "name": "stdout",
     "output_type": "stream",
     "text": [
      "                Symptom  weight\n",
      "0               itching       1\n",
      "1             skin_rash       3\n",
      "2  nodal_skin_eruptions       4\n",
      "3   continuous_sneezing       4\n",
      "4             shivering       5\n"
     ]
    }
   ],
   "source": [
    "df1 = pd.read_csv('Initial Data\\Symptom-severity.csv')\n",
    "print(df1.head())"
   ]
  },
  {
   "cell_type": "code",
   "execution_count": 13,
   "metadata": {},
   "outputs": [
    {
     "name": "stdout",
     "output_type": "stream",
     "text": [
      "          Disease                                        Description\n",
      "0   Drug Reaction  An adverse drug reaction (ADR) is an injury ca...\n",
      "1         Malaria  An infectious disease caused by protozoan para...\n",
      "2         Allergy  An allergy is an immune system response to a f...\n",
      "3  Hypothyroidism  Hypothyroidism, also called underactive thyroi...\n",
      "4       Psoriasis  Psoriasis is a common skin disorder that forms...\n"
     ]
    }
   ],
   "source": [
    "df2 = pd.read_csv('Initial Data\\symptom_Description.csv')\n",
    "print(df2.head())"
   ]
  },
  {
   "cell_type": "code",
   "execution_count": 14,
   "metadata": {},
   "outputs": [
    {
     "name": "stdout",
     "output_type": "stream",
     "text": [
      "          Disease                      Precaution_1  \\\n",
      "0   Drug Reaction                   stop irritation   \n",
      "1         Malaria          Consult nearest hospital   \n",
      "2         Allergy                    apply calamine   \n",
      "3  Hypothyroidism                     reduce stress   \n",
      "4       Psoriasis  wash hands with warm soapy water   \n",
      "\n",
      "                   Precaution_2        Precaution_3  \\\n",
      "0      consult nearest hospital    stop taking drug   \n",
      "1               avoid oily food  avoid non veg food   \n",
      "2       cover area with bandage                 NaN   \n",
      "3                      exercise         eat healthy   \n",
      "4  stop bleeding using pressure      consult doctor   \n",
      "\n",
      "                  Precaution_4  \n",
      "0                    follow up  \n",
      "1           keep mosquitos out  \n",
      "2  use ice to compress itching  \n",
      "3             get proper sleep  \n",
      "4                   salt baths  \n"
     ]
    }
   ],
   "source": [
    "df3 = pd.read_csv('Initial Data\\symptom_precaution.csv')\n",
    "print(df3.head())"
   ]
  },
  {
   "cell_type": "code",
   "execution_count": 15,
   "metadata": {},
   "outputs": [
    {
     "name": "stdout",
     "output_type": "stream",
     "text": [
      "['Fungal infection' 'Allergy' 'GERD' 'Chronic cholestasis' 'Drug Reaction'\n",
      " 'Peptic ulcer diseae' 'AIDS' 'Diabetes ' 'Gastroenteritis'\n",
      " 'Bronchial Asthma' 'Hypertension ' 'Migraine' 'Cervical spondylosis'\n",
      " 'Paralysis (brain hemorrhage)' 'Jaundice' 'Malaria' 'Chicken pox' 'Dengue'\n",
      " 'Typhoid' 'hepatitis A' 'Hepatitis B' 'Hepatitis C' 'Hepatitis D'\n",
      " 'Hepatitis E' 'Alcoholic hepatitis' 'Tuberculosis' 'Common Cold'\n",
      " 'Pneumonia' 'Dimorphic hemmorhoids(piles)' 'Heart attack' 'Varicose veins'\n",
      " 'Hypothyroidism' 'Hyperthyroidism' 'Hypoglycemia' 'Osteoarthristis'\n",
      " 'Arthritis' '(vertigo) Paroymsal  Positional Vertigo' 'Acne'\n",
      " 'Urinary tract infection' 'Psoriasis' 'Impetigo']\n"
     ]
    },
    {
     "data": {
      "text/plain": [
       "41"
      ]
     },
     "execution_count": 15,
     "metadata": {},
     "output_type": "execute_result"
    }
   ],
   "source": [
    "print(df['Disease'].unique())\n",
    "len(df['Disease'].unique())"
   ]
  },
  {
   "cell_type": "code",
   "execution_count": 19,
   "metadata": {},
   "outputs": [
    {
     "data": {
      "text/plain": [
       "['Symptom_1',\n",
       " 'Symptom_2',\n",
       " 'Symptom_3',\n",
       " 'Symptom_4',\n",
       " 'Symptom_5',\n",
       " 'Symptom_6',\n",
       " 'Symptom_7',\n",
       " 'Symptom_8',\n",
       " 'Symptom_9',\n",
       " 'Symptom_10',\n",
       " 'Symptom_11',\n",
       " 'Symptom_12',\n",
       " 'Symptom_13',\n",
       " 'Symptom_14',\n",
       " 'Symptom_15',\n",
       " 'Symptom_16',\n",
       " 'Symptom_17']"
      ]
     },
     "execution_count": 19,
     "metadata": {},
     "output_type": "execute_result"
    }
   ],
   "source": [
    "cols = [i for i in df.iloc[:,1:].columns]\n"
   ]
  },
  {
   "cell_type": "code",
   "execution_count": 20,
   "metadata": {},
   "outputs": [
    {
     "data": {
      "text/html": [
       "<div>\n",
       "<style>\n",
       "    .dataframe thead tr:only-child th {\n",
       "        text-align: right;\n",
       "    }\n",
       "\n",
       "    .dataframe thead th {\n",
       "        text-align: left;\n",
       "    }\n",
       "\n",
       "    .dataframe tbody tr th {\n",
       "        vertical-align: top;\n",
       "    }\n",
       "</style>\n",
       "<table border=\"1\" class=\"dataframe\">\n",
       "  <thead>\n",
       "    <tr style=\"text-align: right;\">\n",
       "      <th></th>\n",
       "      <th>index</th>\n",
       "      <th>variable</th>\n",
       "      <th>value</th>\n",
       "      <th>add1</th>\n",
       "    </tr>\n",
       "  </thead>\n",
       "  <tbody>\n",
       "    <tr>\n",
       "      <th>0</th>\n",
       "      <td>0</td>\n",
       "      <td>Symptom_1</td>\n",
       "      <td>itching</td>\n",
       "      <td>1</td>\n",
       "    </tr>\n",
       "    <tr>\n",
       "      <th>1</th>\n",
       "      <td>1</td>\n",
       "      <td>Symptom_1</td>\n",
       "      <td>skin_rash</td>\n",
       "      <td>1</td>\n",
       "    </tr>\n",
       "    <tr>\n",
       "      <th>2</th>\n",
       "      <td>2</td>\n",
       "      <td>Symptom_1</td>\n",
       "      <td>itching</td>\n",
       "      <td>1</td>\n",
       "    </tr>\n",
       "    <tr>\n",
       "      <th>3</th>\n",
       "      <td>3</td>\n",
       "      <td>Symptom_1</td>\n",
       "      <td>itching</td>\n",
       "      <td>1</td>\n",
       "    </tr>\n",
       "    <tr>\n",
       "      <th>4</th>\n",
       "      <td>4</td>\n",
       "      <td>Symptom_1</td>\n",
       "      <td>itching</td>\n",
       "      <td>1</td>\n",
       "    </tr>\n",
       "  </tbody>\n",
       "</table>\n",
       "</div>"
      ],
      "text/plain": [
       "   index   variable       value  add1\n",
       "0      0  Symptom_1     itching     1\n",
       "1      1  Symptom_1   skin_rash     1\n",
       "2      2  Symptom_1     itching     1\n",
       "3      3  Symptom_1     itching     1\n",
       "4      4  Symptom_1     itching     1"
      ]
     },
     "execution_count": 20,
     "metadata": {},
     "output_type": "execute_result"
    }
   ],
   "source": [
    "# Turns all columns in 'cols' to variable column.\n",
    "tmp = pd.melt(df.reset_index() ,id_vars = ['index'], value_vars = cols )\n",
    "tmp['add1'] = 1\n",
    "tmp.head()"
   ]
  },
  {
   "cell_type": "code",
   "execution_count": 37,
   "metadata": {},
   "outputs": [
    {
     "data": {
      "text/html": [
       "<div>\n",
       "<style>\n",
       "    .dataframe thead tr:only-child th {\n",
       "        text-align: right;\n",
       "    }\n",
       "\n",
       "    .dataframe thead th {\n",
       "        text-align: left;\n",
       "    }\n",
       "\n",
       "    .dataframe tbody tr th {\n",
       "        vertical-align: top;\n",
       "    }\n",
       "</style>\n",
       "<table border=\"1\" class=\"dataframe\">\n",
       "  <thead>\n",
       "    <tr style=\"text-align: right;\">\n",
       "      <th>value</th>\n",
       "      <th>progonosis</th>\n",
       "      <th>abdominal_pain</th>\n",
       "      <th>abnormal_menstruation</th>\n",
       "      <th>acidity</th>\n",
       "      <th>acute_liver_failure</th>\n",
       "      <th>altered_sensorium</th>\n",
       "      <th>anxiety</th>\n",
       "      <th>back_pain</th>\n",
       "      <th>belly_pain</th>\n",
       "      <th>blackheads</th>\n",
       "      <th>...</th>\n",
       "      <th>watering_from_eyes</th>\n",
       "      <th>weakness_in_limbs</th>\n",
       "      <th>weakness_of_one_body_side</th>\n",
       "      <th>weight_gain</th>\n",
       "      <th>weight_loss</th>\n",
       "      <th>yellow_crust_ooze</th>\n",
       "      <th>yellow_urine</th>\n",
       "      <th>yellowing_of_eyes</th>\n",
       "      <th>yellowish_skin</th>\n",
       "      <th>itching</th>\n",
       "    </tr>\n",
       "    <tr>\n",
       "      <th>index</th>\n",
       "      <th></th>\n",
       "      <th></th>\n",
       "      <th></th>\n",
       "      <th></th>\n",
       "      <th></th>\n",
       "      <th></th>\n",
       "      <th></th>\n",
       "      <th></th>\n",
       "      <th></th>\n",
       "      <th></th>\n",
       "      <th></th>\n",
       "      <th></th>\n",
       "      <th></th>\n",
       "      <th></th>\n",
       "      <th></th>\n",
       "      <th></th>\n",
       "      <th></th>\n",
       "      <th></th>\n",
       "      <th></th>\n",
       "      <th></th>\n",
       "      <th></th>\n",
       "    </tr>\n",
       "  </thead>\n",
       "  <tbody>\n",
       "    <tr>\n",
       "      <th>0</th>\n",
       "      <td>Fungal infection</td>\n",
       "      <td>0.0</td>\n",
       "      <td>0.0</td>\n",
       "      <td>0.0</td>\n",
       "      <td>0.0</td>\n",
       "      <td>0.0</td>\n",
       "      <td>0.0</td>\n",
       "      <td>0.0</td>\n",
       "      <td>0.0</td>\n",
       "      <td>0.0</td>\n",
       "      <td>...</td>\n",
       "      <td>0.0</td>\n",
       "      <td>0.0</td>\n",
       "      <td>0.0</td>\n",
       "      <td>0.0</td>\n",
       "      <td>0.0</td>\n",
       "      <td>0.0</td>\n",
       "      <td>0.0</td>\n",
       "      <td>0.0</td>\n",
       "      <td>0.0</td>\n",
       "      <td>1.0</td>\n",
       "    </tr>\n",
       "    <tr>\n",
       "      <th>1</th>\n",
       "      <td>Fungal infection</td>\n",
       "      <td>0.0</td>\n",
       "      <td>0.0</td>\n",
       "      <td>0.0</td>\n",
       "      <td>0.0</td>\n",
       "      <td>0.0</td>\n",
       "      <td>0.0</td>\n",
       "      <td>0.0</td>\n",
       "      <td>0.0</td>\n",
       "      <td>0.0</td>\n",
       "      <td>...</td>\n",
       "      <td>0.0</td>\n",
       "      <td>0.0</td>\n",
       "      <td>0.0</td>\n",
       "      <td>0.0</td>\n",
       "      <td>0.0</td>\n",
       "      <td>0.0</td>\n",
       "      <td>0.0</td>\n",
       "      <td>0.0</td>\n",
       "      <td>0.0</td>\n",
       "      <td>0.0</td>\n",
       "    </tr>\n",
       "    <tr>\n",
       "      <th>2</th>\n",
       "      <td>Fungal infection</td>\n",
       "      <td>0.0</td>\n",
       "      <td>0.0</td>\n",
       "      <td>0.0</td>\n",
       "      <td>0.0</td>\n",
       "      <td>0.0</td>\n",
       "      <td>0.0</td>\n",
       "      <td>0.0</td>\n",
       "      <td>0.0</td>\n",
       "      <td>0.0</td>\n",
       "      <td>...</td>\n",
       "      <td>0.0</td>\n",
       "      <td>0.0</td>\n",
       "      <td>0.0</td>\n",
       "      <td>0.0</td>\n",
       "      <td>0.0</td>\n",
       "      <td>0.0</td>\n",
       "      <td>0.0</td>\n",
       "      <td>0.0</td>\n",
       "      <td>0.0</td>\n",
       "      <td>1.0</td>\n",
       "    </tr>\n",
       "    <tr>\n",
       "      <th>3</th>\n",
       "      <td>Fungal infection</td>\n",
       "      <td>0.0</td>\n",
       "      <td>0.0</td>\n",
       "      <td>0.0</td>\n",
       "      <td>0.0</td>\n",
       "      <td>0.0</td>\n",
       "      <td>0.0</td>\n",
       "      <td>0.0</td>\n",
       "      <td>0.0</td>\n",
       "      <td>0.0</td>\n",
       "      <td>...</td>\n",
       "      <td>0.0</td>\n",
       "      <td>0.0</td>\n",
       "      <td>0.0</td>\n",
       "      <td>0.0</td>\n",
       "      <td>0.0</td>\n",
       "      <td>0.0</td>\n",
       "      <td>0.0</td>\n",
       "      <td>0.0</td>\n",
       "      <td>0.0</td>\n",
       "      <td>1.0</td>\n",
       "    </tr>\n",
       "    <tr>\n",
       "      <th>4</th>\n",
       "      <td>Fungal infection</td>\n",
       "      <td>0.0</td>\n",
       "      <td>0.0</td>\n",
       "      <td>0.0</td>\n",
       "      <td>0.0</td>\n",
       "      <td>0.0</td>\n",
       "      <td>0.0</td>\n",
       "      <td>0.0</td>\n",
       "      <td>0.0</td>\n",
       "      <td>0.0</td>\n",
       "      <td>...</td>\n",
       "      <td>0.0</td>\n",
       "      <td>0.0</td>\n",
       "      <td>0.0</td>\n",
       "      <td>0.0</td>\n",
       "      <td>0.0</td>\n",
       "      <td>0.0</td>\n",
       "      <td>0.0</td>\n",
       "      <td>0.0</td>\n",
       "      <td>0.0</td>\n",
       "      <td>1.0</td>\n",
       "    </tr>\n",
       "  </tbody>\n",
       "</table>\n",
       "<p>5 rows × 132 columns</p>\n",
       "</div>"
      ],
      "text/plain": [
       "value        progonosis   abdominal_pain   abnormal_menstruation   acidity  \\\n",
       "index                                                                        \n",
       "0      Fungal infection              0.0                     0.0       0.0   \n",
       "1      Fungal infection              0.0                     0.0       0.0   \n",
       "2      Fungal infection              0.0                     0.0       0.0   \n",
       "3      Fungal infection              0.0                     0.0       0.0   \n",
       "4      Fungal infection              0.0                     0.0       0.0   \n",
       "\n",
       "value   acute_liver_failure   altered_sensorium   anxiety   back_pain  \\\n",
       "index                                                                   \n",
       "0                       0.0                 0.0       0.0         0.0   \n",
       "1                       0.0                 0.0       0.0         0.0   \n",
       "2                       0.0                 0.0       0.0         0.0   \n",
       "3                       0.0                 0.0       0.0         0.0   \n",
       "4                       0.0                 0.0       0.0         0.0   \n",
       "\n",
       "value   belly_pain   blackheads   ...      watering_from_eyes  \\\n",
       "index                             ...                           \n",
       "0              0.0          0.0   ...                     0.0   \n",
       "1              0.0          0.0   ...                     0.0   \n",
       "2              0.0          0.0   ...                     0.0   \n",
       "3              0.0          0.0   ...                     0.0   \n",
       "4              0.0          0.0   ...                     0.0   \n",
       "\n",
       "value   weakness_in_limbs   weakness_of_one_body_side   weight_gain  \\\n",
       "index                                                                 \n",
       "0                     0.0                         0.0           0.0   \n",
       "1                     0.0                         0.0           0.0   \n",
       "2                     0.0                         0.0           0.0   \n",
       "3                     0.0                         0.0           0.0   \n",
       "4                     0.0                         0.0           0.0   \n",
       "\n",
       "value   weight_loss   yellow_crust_ooze   yellow_urine   yellowing_of_eyes  \\\n",
       "index                                                                        \n",
       "0               0.0                 0.0            0.0                 0.0   \n",
       "1               0.0                 0.0            0.0                 0.0   \n",
       "2               0.0                 0.0            0.0                 0.0   \n",
       "3               0.0                 0.0            0.0                 0.0   \n",
       "4               0.0                 0.0            0.0                 0.0   \n",
       "\n",
       "value   yellowish_skin  itching  \n",
       "index                            \n",
       "0                  0.0      1.0  \n",
       "1                  0.0      0.0  \n",
       "2                  0.0      1.0  \n",
       "3                  0.0      1.0  \n",
       "4                  0.0      1.0  \n",
       "\n",
       "[5 rows x 132 columns]"
      ]
     },
     "execution_count": 37,
     "metadata": {},
     "output_type": "execute_result"
    }
   ],
   "source": [
    "# Pivot table and add labels column\n",
    "diseases = pd.pivot_table(tmp, values = 'add1',index = 'index',columns = 'value')\n",
    "diseases.insert(0,'progonosis',df['Disease'])\n",
    "\n",
    "#Fill null values with 0\n",
    "diseases = diseases.fillna(0)\n",
    "diseases.head()"
   ]
  },
  {
   "cell_type": "code",
   "execution_count": 38,
   "metadata": {
    "collapsed": true
   },
   "outputs": [],
   "source": [
    "#Export csv file\n",
    "df.to_csv(r'C:\\Users\\NAMRATA CHAUDHARI\\Downloads\\archive (1)\\Prototype.csv')\n",
    "\n",
    "#we will use this file to predict diseases (41) according to symptoms (132)\n",
    "#Note that we have ignored the weight of the symptoms"
   ]
  },
  {
   "cell_type": "code",
   "execution_count": null,
   "metadata": {
    "collapsed": true
   },
   "outputs": [],
   "source": []
  }
 ],
 "metadata": {
  "kernelspec": {
   "display_name": "Python 3",
   "language": "python",
   "name": "python3"
  },
  "language_info": {
   "codemirror_mode": {
    "name": "ipython",
    "version": 3
   },
   "file_extension": ".py",
   "mimetype": "text/x-python",
   "name": "python",
   "nbconvert_exporter": "python",
   "pygments_lexer": "ipython3",
   "version": "3.6.3"
  }
 },
 "nbformat": 4,
 "nbformat_minor": 2
}
